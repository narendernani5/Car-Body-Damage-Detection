{
  "nbformat": 4,
  "nbformat_minor": 0,
  "metadata": {
    "kernelspec": {
      "name": "python3",
      "display_name": "Python 3"
    },
    "language_info": {
      "codemirror_mode": {
        "name": "ipython",
        "version": 3
      },
      "file_extension": ".py",
      "mimetype": "text/x-python",
      "name": "python",
      "nbconvert_exporter": "python",
      "pygments_lexer": "ipython3",
      "version": "3.6.8"
    },
    "colab": {
      "name": "Data_preprocessing_Car_damage_prediction.ipynb",
      "provenance": [],
      "collapsed_sections": [],
      "toc_visible": true,
      "machine_shape": "hm"
    },
    "accelerator": "GPU"
  },
  "cells": [
    {
      "cell_type": "markdown",
      "metadata": {
        "id": "ra5So8D4kVhL",
        "colab_type": "text"
      },
      "source": [
        "# Car Body Damage Detection\n",
        "### -Detect scratch, dent, repaint etc. on car body"
      ]
    },
    {
      "cell_type": "markdown",
      "metadata": {
        "id": "nmpbFbW-qI8w",
        "colab_type": "text"
      },
      "source": [
        "###1.3 Source/Useful Links\n",
        "\n",
        "Data Preprocessing:\n",
        "1. https://towardsdatascience.com/cnn-application-detecting-car-exterior-damage-full-implementable-code-1b205e3cb48c\n",
        "\n",
        "2. https://www.analyticsvidhya.com/blog/2018/07/building-mask-r-cnn-model-detecting-damage-cars-python/"
      ]
    },
    {
      "cell_type": "code",
      "metadata": {
        "colab_type": "code",
        "id": "Hpth0KgGVAA_",
        "outputId": "2e8f0931-e82d-4062-c791-96032d14ce99",
        "colab": {
          "base_uri": "https://localhost:8080/",
          "height": 207
        }
      },
      "source": [
        "pip install mrcnn"
      ],
      "execution_count": 5,
      "outputs": [
        {
          "output_type": "stream",
          "text": [
            "Collecting mrcnn\n",
            "\u001b[?25l  Downloading https://files.pythonhosted.org/packages/80/3d/56e05c297a1f464a042b2c47bcd9e5f2d452ce0e5eca3894f7cbdcaee758/mrcnn-0.2.tar.gz (51kB)\n",
            "\r\u001b[K     |██████▍                         | 10kB 21.1MB/s eta 0:00:01\r\u001b[K     |████████████▊                   | 20kB 2.2MB/s eta 0:00:01\r\u001b[K     |███████████████████             | 30kB 2.8MB/s eta 0:00:01\r\u001b[K     |█████████████████████████▌      | 40kB 2.1MB/s eta 0:00:01\r\u001b[K     |███████████████████████████████▉| 51kB 2.5MB/s eta 0:00:01\r\u001b[K     |████████████████████████████████| 61kB 2.2MB/s \n",
            "\u001b[?25hBuilding wheels for collected packages: mrcnn\n",
            "  Building wheel for mrcnn (setup.py) ... \u001b[?25l\u001b[?25hdone\n",
            "  Created wheel for mrcnn: filename=mrcnn-0.2-cp36-none-any.whl size=54931 sha256=4e8fece146d7d714b7ab6bdcd4475b286c8012818264470f6a8ff1e341ce6485\n",
            "  Stored in directory: /root/.cache/pip/wheels/11/ed/28/e550ddc897c04c336b923eae4eb35c9aae993d20ce39d9cc40\n",
            "Successfully built mrcnn\n",
            "Installing collected packages: mrcnn\n",
            "Successfully installed mrcnn-0.2\n"
          ],
          "name": "stdout"
        }
      ]
    },
    {
      "cell_type": "code",
      "metadata": {
        "id": "uKpWlSF3y3nF",
        "colab_type": "code",
        "outputId": "851fecb8-816f-4252-b4d1-52d6f0b00ed8",
        "colab": {
          "base_uri": "https://localhost:8080/",
          "height": 34
        }
      },
      "source": [
        "from google.colab import drive\n",
        "drive.mount('/content/drive')"
      ],
      "execution_count": 20,
      "outputs": [
        {
          "output_type": "stream",
          "text": [
            "Mounted at /content/drive\n"
          ],
          "name": "stdout"
        }
      ]
    },
    {
      "cell_type": "code",
      "metadata": {
        "id": "G_McOa1GFII6",
        "colab_type": "code",
        "colab": {}
      },
      "source": [
        "import warnings\n",
        "warnings.filterwarnings(\"ignore\")\n",
        "\n",
        "import os\n",
        "import sys\n",
        "import json\n",
        "from datetime import datetime\n",
        "import numpy as np\n",
        "import skimage.draw\n",
        "import cv2\n",
        "import math\n",
        "from imgaug import augmenters as iaa\n",
        "from tqdm import tqdm\n",
        "import pandas as pd \n",
        "import glob\n",
        "import itertools\n",
        "import logging\n",
        "import re\n",
        "import random\n",
        "from collections import OrderedDict\n",
        "from PIL import Image\n",
        "from sklearn.model_selection import KFold\n",
        "from sklearn.model_selection import train_test_split\n",
        "from sklearn.metrics import recall_score\n",
        "from random import random\n",
        "from random import seed\n",
        "from keras import backend as K\n",
        "\n",
        "import matplotlib.pyplot as plt\n",
        "import matplotlib.patches as patches\n",
        "import matplotlib.lines as lines\n",
        "\n",
        "from matplotlib.patches import Polygon\n",
        "from mrcnn.visualize import display_instances\n",
        "from mrcnn.config import Config\n",
        "from mrcnn import model as modellib, utils\n",
        "\n",
        "import keras\n",
        "import tensorflow as tf\n",
        "from keras.layers import Input,Flatten,Conv2DTranspose,concatenate, Embedding, GlobalAveragePooling2D, MaxPooling2D, Activation, Dense, Conv2D, BatchNormalization, Dropout\n",
        "from keras import layers\n",
        "from keras import optimizers\n",
        "from keras.models import Sequential, Model, load_model\n",
        "from keras.layers.advanced_activations import LeakyReLU\n",
        "from keras.layers import Dense, Conv2D, Flatten, MaxPool2D, Dropout, Input\n",
        "from keras.callbacks import ModelCheckpoint\n",
        "from keras.preprocessing.image import ImageDataGenerator\n",
        "from keras.optimizers import Adam\n",
        "from keras import initializers\n",
        "\n",
        "# Root directory of the project\n",
        "ROOT_DIR = os.path.abspath(\"/content/drive/My Drive/Colab Notebooks/CS2/references/\")\n",
        "# Import Mask RCNN\n",
        "sys.path.append(ROOT_DIR)  # To find local version of the library\n",
        "\n",
        "# Directory to save logs and model checkpoints, if not provided\n",
        "# through the command line argument --logs\n",
        "DEFAULT_LOGS_DIR = os.path.join(ROOT_DIR, \"logs\")"
      ],
      "execution_count": 0,
      "outputs": []
    },
    {
      "cell_type": "markdown",
      "metadata": {
        "id": "cOoZrB2dg1WX",
        "colab_type": "text"
      },
      "source": [
        "## Data Preprocessing"
      ]
    },
    {
      "cell_type": "code",
      "metadata": {
        "id": "RmvGGFeb8Um_",
        "colab_type": "code",
        "colab": {}
      },
      "source": [
        "class CustomDataset(utils.Dataset):\n",
        "\n",
        "    def load_custom(self, dataset_dir):\n",
        "        \"\"\"Load a subset of the Balloon dataset.\n",
        "        dataset_dir: Root directory of the dataset.\n",
        "        subset: Subset to load: train or val\n",
        "        \"\"\"\n",
        "        # Add classes. We have only one class to add.\n",
        "        self.add_class(\"damage\", 1, \"damage\")\n",
        "\n",
        "        # Train or validation dataset?\n",
        "        dataset_dir = os.path.join(dataset_dir)\n",
        "\n",
        "        # Load annotations\n",
        "        # VGG Image Annotator saves each image in the form:\n",
        "        # { 'filename': '28503151_5b5b7ec140_b.jpg',\n",
        "        #   'regions': {\n",
        "        #       '0': {\n",
        "        #           'region_attributes': {},\n",
        "        #           'shape_attributes': {\n",
        "        #               'all_points_x': [...],\n",
        "        #               'all_points_y': [...],\n",
        "        #               'name': 'polygon'}},\n",
        "        #       ... more regions ...\n",
        "        #   },\n",
        "        #   'size': 100202\n",
        "        # }\n",
        "        # We mostly care about the x and y coordinates of each region\n",
        "        annotations1 = json.load(open(os.path.join(dataset_dir, \"via_region_data.json\")))\n",
        "        # print(annotations1)\n",
        "        annotations = list(annotations1.values())  # don't need the dict keys\n",
        "\n",
        "        # The VIA tool saves images in the JSON even if they don't have any\n",
        "        # annotations. Skip unannotated images.\n",
        "        annotations = [a for a in annotations if a['regions']]\n",
        "\n",
        "        # Add images\n",
        "        for a in annotations:\n",
        "            # print(a)\n",
        "            # Get the x, y coordinaets of points of the polygons that make up\n",
        "            # the outline of each object instance. There are stores in the\n",
        "            # shape_attributes (see json format above)\n",
        "            polygons = [r['shape_attributes'] for r in a['regions'].values()]\n",
        "\n",
        "            # load_mask() needs the image size to convert polygons to masks.\n",
        "            # Unfortunately, VIA doesn't include it in JSON, so we must read\n",
        "            # the image. This is only managable since the dataset is tiny.\n",
        "            image_path = os.path.join(dataset_dir, a['filename'])\n",
        "            image = skimage.io.imread(image_path)\n",
        "            height, width = image.shape[:2]\n",
        "\n",
        "            self.add_image(\n",
        "                \"damage\",  ## for a single class just add the name here\n",
        "                image_id=a['filename'],  # use file name as a unique image id\n",
        "                path=image_path,\n",
        "                width=width, height=height,\n",
        "                polygons=polygons)\n",
        "\n",
        "    def load_mask(self, image_id):\n",
        "        \"\"\"Generate instance masks for an image.\n",
        "       Returns:\n",
        "        masks: A bool array of shape [height, width, instance count] with\n",
        "            one mask per instance.\n",
        "        class_ids: a 1D array of class IDs of the instance masks.\n",
        "        \"\"\"\n",
        "        # If not a balloon dataset image, delegate to parent class.\n",
        "        image_info = self.image_info[image_id]\n",
        "        if image_info[\"source\"] != \"damage\":\n",
        "            return super(self.__class__, self).load_mask(image_id)\n",
        "\n",
        "        # Convert polygons to a bitmap mask of shape\n",
        "        # [height, width, instance_count]\n",
        "        info = self.image_info[image_id]\n",
        "        mask = np.zeros([info[\"height\"], info[\"width\"], len(info[\"polygons\"])],\n",
        "                        dtype=np.uint8)\n",
        "        for i, p in enumerate(info[\"polygons\"]):\n",
        "            # Get indexes of pixels inside the polygon and set them to 1\n",
        "            rr, cc = skimage.draw.polygon(p['all_points_y'], p['all_points_x'])\n",
        "            mask[rr, cc, i] = 1\n",
        "\n",
        "        # Return mask, and array of class IDs of each instance. Since we have\n",
        "        # one class ID only, we return an array of 1s\n",
        "        return mask.astype(np.bool), np.ones([mask.shape[-1]], dtype=np.int32)"
      ],
      "execution_count": 0,
      "outputs": []
    },
    {
      "cell_type": "code",
      "metadata": {
        "id": "47B4xmt0CGzk",
        "colab_type": "code",
        "colab": {}
      },
      "source": [
        "# We need a function to convert EncodedPixels into mask\n",
        "# https://www.kaggle.com/paulorzp/rle-functions-run-lenght-encode-decode\n",
        "\n",
        "def rle2mask(mask_rle, shape=(450,300)):\n",
        "    '''\n",
        "    mask_rle: run-length as string formated (start length)\n",
        "    shape: (width,height) of array to return \n",
        "    Returns numpy array, 1 - mask, 0 - background\n",
        "    This function is specific to this competition\n",
        "\n",
        "    '''\n",
        "    s = mask_rle.split()\n",
        "    starts, lengths = [np.asarray(x, dtype=int) for x in (s[0:][::2], s[1:][::2])]\n",
        "    starts -= 1\n",
        "    ends = starts + lengths\n",
        "    img = np.zeros(shape[0]*shape[1], dtype=np.uint8)\n",
        "    for lo, hi in zip(starts, ends):\n",
        "        img[lo:hi] = 1\n",
        "    return img.reshape(shape).T\n",
        "\n",
        "def mask2rle(img):\n",
        "    '''\n",
        "    img: numpy array, 1 - mask, 0 - background\n",
        "    Returns run length as string formated\n",
        "    This function is specific to this competition\n",
        "    '''\n",
        "    pixels= img.T.flatten()\n",
        "    pixels = np.concatenate([[0], pixels, [0]])\n",
        "    runs = np.where(pixels[1:] != pixels[:-1])[0] + 1\n",
        "    runs[1::2] -= runs[::2]\n",
        "    return ' '.join(str(x) for x in runs)"
      ],
      "execution_count": 0,
      "outputs": []
    },
    {
      "cell_type": "code",
      "metadata": {
        "id": "G7fWaZjdg_j9",
        "colab_type": "code",
        "outputId": "f9ddc9ba-54ed-4ef3-f944-783fa0391d75",
        "colab": {
          "base_uri": "https://localhost:8080/",
          "height": 85
        }
      },
      "source": [
        "# Load dataset\n",
        "dataset = CustomDataset()\n",
        "dataset.load_custom(ROOT_DIR + \"/train\")\n",
        "\n",
        "# Must call before using the dataset\n",
        "dataset.prepare()\n",
        "\n",
        "print(\"Image Count: {}\".format(len(dataset.image_ids)))\n",
        "print(\"Class Count: {}\".format(dataset.num_classes))\n",
        "for i, info in enumerate(dataset.class_info):\n",
        "    print(\"{:3}. {:50}\".format(i, info['name']))"
      ],
      "execution_count": 23,
      "outputs": [
        {
          "output_type": "stream",
          "text": [
            "Image Count: 49\n",
            "Class Count: 2\n",
            "  0. BG                                                \n",
            "  1. damage                                            \n"
          ],
          "name": "stdout"
        }
      ]
    },
    {
      "cell_type": "code",
      "metadata": {
        "id": "dQVk0gEYMCzB",
        "colab_type": "code",
        "colab": {}
      },
      "source": [
        "def get_masks(mask, class_ids, class_names, limit=1):\n",
        "    \"\"\"Display the given image and the top few class masks.\"\"\"\n",
        "    to_display = []\n",
        "    unique_class_ids = np.unique(class_ids)\n",
        "    mask_area = [np.sum(mask[:, :, np.where(class_ids == i)[0]])\n",
        "                 for i in unique_class_ids]\n",
        "    top_ids = [v[0] for v in sorted(zip(unique_class_ids, mask_area),\n",
        "                                    key=lambda r: r[1], reverse=True) if v[1] > 0]\n",
        "    # Generate images and titles\n",
        "    for i in range(limit):\n",
        "        class_id = top_ids[i] if i < len(top_ids) else -1\n",
        "        # Pull masks of instances belonging to the same class.\n",
        "        m = mask[:, :, np.where(class_ids == class_id)[0]]\n",
        "        m = np.sum(m * np.arange(1, m.shape[-1] + 1), -1)\n",
        "    return m"
      ],
      "execution_count": 0,
      "outputs": []
    },
    {
      "cell_type": "code",
      "metadata": {
        "id": "o8EL9ns1SfEd",
        "colab_type": "code",
        "colab": {}
      },
      "source": [
        "# Get image file names from json file \n",
        "annotations1 = json.load(open(os.path.join(ROOT_DIR +'/train/', \"via_region_data.json\")))\n",
        "annotations = list(annotations1.values())  # don't need the dict keys\n",
        "\n",
        "# The VIA tool saves images in the JSON even if they don't have any\n",
        "# annotations. Skip unannotated images.\n",
        "annotations = [a for a in annotations if a['regions']]\n",
        "train_image_names = []\n",
        "for a in annotations:\n",
        "    train_image_names.append(a['filename'])"
      ],
      "execution_count": 0,
      "outputs": []
    },
    {
      "cell_type": "markdown",
      "metadata": {
        "id": "V3C1jEk5YNDr",
        "colab_type": "text"
      },
      "source": [
        "### Create EncodedPixels CSV file from annotated file"
      ]
    },
    {
      "cell_type": "code",
      "metadata": {
        "id": "-BiaAeesQsAW",
        "colab_type": "code",
        "colab": {}
      },
      "source": [
        "train_data = pd.DataFrame()\n",
        "for image_id, name in enumerate(train_image_names):\n",
        "    mask, class_ids = dataset.load_mask(image_id)\n",
        "    msk = get_masks(mask, class_ids, dataset.class_names)\n",
        "    EncodedPixels = mask2rle(msk)\n",
        "    x2 = pd.DataFrame({\"ImageId\":name, \"EncodedPixels\":[EncodedPixels]})\n",
        "    train_data = pd.concat([train_data,x2], ignore_index=True)"
      ],
      "execution_count": 0,
      "outputs": []
    },
    {
      "cell_type": "code",
      "metadata": {
        "id": "Jvx-M0OTStLA",
        "colab_type": "code",
        "outputId": "06f6a79f-e688-4f8c-f811-ceb966bf9e9b",
        "colab": {
          "base_uri": "https://localhost:8080/",
          "height": 204
        }
      },
      "source": [
        "train_data.head()"
      ],
      "execution_count": 40,
      "outputs": [
        {
          "output_type": "execute_result",
          "data": {
            "text/html": [
              "<div>\n",
              "<style scoped>\n",
              "    .dataframe tbody tr th:only-of-type {\n",
              "        vertical-align: middle;\n",
              "    }\n",
              "\n",
              "    .dataframe tbody tr th {\n",
              "        vertical-align: top;\n",
              "    }\n",
              "\n",
              "    .dataframe thead th {\n",
              "        text-align: right;\n",
              "    }\n",
              "</style>\n",
              "<table border=\"1\" class=\"dataframe\">\n",
              "  <thead>\n",
              "    <tr style=\"text-align: right;\">\n",
              "      <th></th>\n",
              "      <th>ImageId</th>\n",
              "      <th>EncodedPixels</th>\n",
              "    </tr>\n",
              "  </thead>\n",
              "  <tbody>\n",
              "    <tr>\n",
              "      <th>0</th>\n",
              "      <td>image67.jpg</td>\n",
              "      <td>77907 1 78425 1 78943 1 79461 1 79979 1 80497 ...</td>\n",
              "    </tr>\n",
              "    <tr>\n",
              "      <th>1</th>\n",
              "      <td>image66.jpg</td>\n",
              "      <td>20151 1 20373 47 20595 51 20816 56 21038 60 21...</td>\n",
              "    </tr>\n",
              "    <tr>\n",
              "      <th>2</th>\n",
              "      <td>image65.jpg</td>\n",
              "      <td>51421 1 51944 22 52467 44 52989 66 53524 76 54...</td>\n",
              "    </tr>\n",
              "    <tr>\n",
              "      <th>3</th>\n",
              "      <td>image64.jpg</td>\n",
              "      <td>206966 1 207375 7 207783 15 208191 23 208599 3...</td>\n",
              "    </tr>\n",
              "    <tr>\n",
              "      <th>4</th>\n",
              "      <td>image63.jpg</td>\n",
              "      <td>72538 1 72958 6 73378 11 73798 17 74218 22 746...</td>\n",
              "    </tr>\n",
              "  </tbody>\n",
              "</table>\n",
              "</div>"
            ],
            "text/plain": [
              "       ImageId                                      EncodedPixels\n",
              "0  image67.jpg  77907 1 78425 1 78943 1 79461 1 79979 1 80497 ...\n",
              "1  image66.jpg  20151 1 20373 47 20595 51 20816 56 21038 60 21...\n",
              "2  image65.jpg  51421 1 51944 22 52467 44 52989 66 53524 76 54...\n",
              "3  image64.jpg  206966 1 207375 7 207783 15 208191 23 208599 3...\n",
              "4  image63.jpg  72538 1 72958 6 73378 11 73798 17 74218 22 746..."
            ]
          },
          "metadata": {
            "tags": []
          },
          "execution_count": 40
        }
      ]
    },
    {
      "cell_type": "markdown",
      "metadata": {
        "id": "GpxKbNcgYpT_",
        "colab_type": "text"
      },
      "source": [
        "### Save masks as jpeg files extracted from json file"
      ]
    },
    {
      "cell_type": "code",
      "metadata": {
        "id": "naENhXO5YoOb",
        "colab_type": "code",
        "colab": {}
      },
      "source": [
        "train_data = pd.DataFrame()\n",
        "for image_id, name in enumerate(train_image_names):\n",
        "    mask, class_ids = dataset.load_mask(image_id)\n",
        "    msk = get_masks(mask, class_ids, dataset.class_names)\n",
        "    img = msk.reshape((*msk.shape, 1)) #to make shape(m x n x 1)\n",
        "    tf_img = tf.image.resize(img, [img.shape[0], img.shape[1]]) # Convert to tensor\n",
        "    gray = tf.image.grayscale_to_rgb(tf_img, name=None) # Gray scale image\n",
        "    image = tf.image.resize(gray, [256, 256]) # Resize\n",
        "    tf.keras.preprocessing.image.save_img('mask_'+str(name), image)"
      ],
      "execution_count": 0,
      "outputs": []
    },
    {
      "cell_type": "markdown",
      "metadata": {
        "id": "32rT7bwQ8gNe",
        "colab_type": "text"
      },
      "source": [
        "Train. Validation and Test split"
      ]
    },
    {
      "cell_type": "code",
      "metadata": {
        "id": "l9mOk_dU8XRI",
        "colab_type": "code",
        "outputId": "8de0af26-16dc-4d43-a296-5f675031b9c7",
        "colab": {
          "base_uri": "https://localhost:8080/",
          "height": 34
        }
      },
      "source": [
        "X = train_data.copy()\n",
        "X_train, X_test = train_test_split(X, test_size = 0.1, random_state=42)\n",
        "X_train, X_val = train_test_split(X_train, test_size = 0.2, random_state=42)\n",
        "print(X_train.shape, X_val.shape, X_test.shape)"
      ],
      "execution_count": 0,
      "outputs": [
        {
          "output_type": "stream",
          "text": [
            "(35, 2) (9, 2) (5, 2)\n"
          ],
          "name": "stdout"
        }
      ]
    },
    {
      "cell_type": "code",
      "metadata": {
        "id": "A8AxpMu49NLD",
        "colab_type": "code",
        "outputId": "674518cf-065e-4199-95be-45b62e4ca32a",
        "colab": {
          "base_uri": "https://localhost:8080/",
          "height": 204
        }
      },
      "source": [
        "X_train.head()"
      ],
      "execution_count": 0,
      "outputs": [
        {
          "output_type": "execute_result",
          "data": {
            "text/html": [
              "<div>\n",
              "<style scoped>\n",
              "    .dataframe tbody tr th:only-of-type {\n",
              "        vertical-align: middle;\n",
              "    }\n",
              "\n",
              "    .dataframe tbody tr th {\n",
              "        vertical-align: top;\n",
              "    }\n",
              "\n",
              "    .dataframe thead th {\n",
              "        text-align: right;\n",
              "    }\n",
              "</style>\n",
              "<table border=\"1\" class=\"dataframe\">\n",
              "  <thead>\n",
              "    <tr style=\"text-align: right;\">\n",
              "      <th></th>\n",
              "      <th>ImageId</th>\n",
              "      <th>EncodedPixels</th>\n",
              "    </tr>\n",
              "  </thead>\n",
              "  <tbody>\n",
              "    <tr>\n",
              "      <th>31</th>\n",
              "      <td>image21.jpeg</td>\n",
              "      <td>13466 1 13659 3 13852 5 14045 7 14238 9 14431 ...</td>\n",
              "    </tr>\n",
              "    <tr>\n",
              "      <th>4</th>\n",
              "      <td>image63.jpg</td>\n",
              "      <td>72538 1 72958 6 73378 11 73798 17 74218 22 746...</td>\n",
              "    </tr>\n",
              "    <tr>\n",
              "      <th>1</th>\n",
              "      <td>image66.jpg</td>\n",
              "      <td>20151 1 20373 47 20595 51 20816 56 21038 60 21...</td>\n",
              "    </tr>\n",
              "    <tr>\n",
              "      <th>35</th>\n",
              "      <td>image16.jpg</td>\n",
              "      <td>184190 1 184760 7 185330 13 185900 19 186470 2...</td>\n",
              "    </tr>\n",
              "    <tr>\n",
              "      <th>30</th>\n",
              "      <td>image28.jpg</td>\n",
              "      <td>165656 1 166188 1 166720 1 167251 2 167783 3 1...</td>\n",
              "    </tr>\n",
              "  </tbody>\n",
              "</table>\n",
              "</div>"
            ],
            "text/plain": [
              "         ImageId                                      EncodedPixels\n",
              "31  image21.jpeg  13466 1 13659 3 13852 5 14045 7 14238 9 14431 ...\n",
              "4    image63.jpg  72538 1 72958 6 73378 11 73798 17 74218 22 746...\n",
              "1    image66.jpg  20151 1 20373 47 20595 51 20816 56 21038 60 21...\n",
              "35   image16.jpg  184190 1 184760 7 185330 13 185900 19 186470 2...\n",
              "30   image28.jpg  165656 1 166188 1 166720 1 167251 2 167783 3 1..."
            ]
          },
          "metadata": {
            "tags": []
          },
          "execution_count": 10
        }
      ]
    },
    {
      "cell_type": "markdown",
      "metadata": {
        "id": "xODRYFPD8k-3",
        "colab_type": "text"
      },
      "source": [
        "## Exploratory Data Analysis"
      ]
    },
    {
      "cell_type": "code",
      "metadata": {
        "id": "8G9TTv1e-mgi",
        "colab_type": "code",
        "outputId": "cdcf1bde-ace5-40a5-eedf-4b6243586f73",
        "colab": {
          "base_uri": "https://localhost:8080/",
          "height": 436
        }
      },
      "source": [
        "# Visualization: Sample i\n",
        "cnt = 0\n",
        "for i in train_data[['ImageId','EncodedPixels']][5:15].values:\n",
        "    if cnt<3:\n",
        "            fig, (ax1,ax2) = plt.subplots(nrows = 1,ncols = 2,figsize=(5, 2))\n",
        "            img = Image.open(str(ROOT_DIR +'/train/'+ i[0]))\n",
        "            ax1.imshow(img)\n",
        "            ax1.set_title(i[0])\n",
        "            cnt+=1\n",
        "            img = cv2.imread(str(ROOT_DIR +'/train/'+  i[0]), cv2.IMREAD_UNCHANGED)\n",
        "            ax2.imshow(rle2mask(i[1], shape=((img.shape[1], img.shape[0]))))\n",
        "            ax2.set_title(i[0]+'_mask_')\n",
        "            a = rle2mask(i[1])\n",
        "            plt.show()\n",
        "print('-'*80)"
      ],
      "execution_count": 0,
      "outputs": [
        {
          "output_type": "display_data",
          "data": {
            "image/png": "[encoded data removed]",
            "text/plain": [
              "<Figure size 360x144 with 2 Axes>"
            ]
          },
          "metadata": {
            "tags": []
          }
        },
        {
          "output_type": "display_data",
          "data": {
            "image/png": "[encoded data removed]",
            "text/plain": [
              "<Figure size 360x144 with 2 Axes>"
            ]
          },
          "metadata": {
            "tags": []
          }
        },
        {
          "output_type": "display_data",
          "data": {
            "image/png": "[encoded data removed]",
            "text/plain": [
              "<Figure size 360x144 with 2 Axes>"
            ]
          },
          "metadata": {
            "tags": []
          }
        },
        {
          "output_type": "stream",
          "text": [
            "--------------------------------------------------------------------------------\n"
          ],
          "name": "stdout"
        }
      ]
    },
    {
      "cell_type": "markdown",
      "metadata": {
        "id": "yxFPQeemBK-n",
        "colab_type": "text"
      },
      "source": [
        "area' as a new feature"
      ]
    },
    {
      "cell_type": "code",
      "metadata": {
        "id": "pS_ZvxZ2Bov8",
        "colab_type": "code",
        "outputId": "8cc8a5ce-3a13-4381-a5f3-38fda07dfd38",
        "colab": {
          "base_uri": "https://localhost:8080/",
          "height": 723
        }
      },
      "source": [
        "fig, ax = plt.subplots(1,1,figsize=(8, 7))\n",
        "tmp = X_train['EncodedPixels'].apply(lambda s: sum([int(k) for k in s.split(' ')[1::2]]))\n",
        "ax.hist(tmp.values,bins = 25)\n",
        "ax.set_xlabel('Damage_area')\n",
        "ax.set_ylabel('Number of Images')\n",
        "\n",
        "tmp = X_train['EncodedPixels'].apply(lambda s: sum([int(k) for k in s.split(' ')[1::2]])).describe()\n",
        "area_df = pd.DataFrame(tmp)\n",
        "area_df"
      ],
      "execution_count": 0,
      "outputs": [
        {
          "output_type": "execute_result",
          "data": {
            "text/html": [
              "<div>\n",
              "<style scoped>\n",
              "    .dataframe tbody tr th:only-of-type {\n",
              "        vertical-align: middle;\n",
              "    }\n",
              "\n",
              "    .dataframe tbody tr th {\n",
              "        vertical-align: top;\n",
              "    }\n",
              "\n",
              "    .dataframe thead th {\n",
              "        text-align: right;\n",
              "    }\n",
              "</style>\n",
              "<table border=\"1\" class=\"dataframe\">\n",
              "  <thead>\n",
              "    <tr style=\"text-align: right;\">\n",
              "      <th></th>\n",
              "      <th>EncodedPixels</th>\n",
              "    </tr>\n",
              "  </thead>\n",
              "  <tbody>\n",
              "    <tr>\n",
              "      <th>count</th>\n",
              "      <td>35.000000</td>\n",
              "    </tr>\n",
              "    <tr>\n",
              "      <th>mean</th>\n",
              "      <td>29863.742857</td>\n",
              "    </tr>\n",
              "    <tr>\n",
              "      <th>std</th>\n",
              "      <td>57547.544424</td>\n",
              "    </tr>\n",
              "    <tr>\n",
              "      <th>min</th>\n",
              "      <td>1573.000000</td>\n",
              "    </tr>\n",
              "    <tr>\n",
              "      <th>25%</th>\n",
              "      <td>3962.000000</td>\n",
              "    </tr>\n",
              "    <tr>\n",
              "      <th>50%</th>\n",
              "      <td>7508.000000</td>\n",
              "    </tr>\n",
              "    <tr>\n",
              "      <th>75%</th>\n",
              "      <td>27810.000000</td>\n",
              "    </tr>\n",
              "    <tr>\n",
              "      <th>max</th>\n",
              "      <td>316984.000000</td>\n",
              "    </tr>\n",
              "  </tbody>\n",
              "</table>\n",
              "</div>"
            ],
            "text/plain": [
              "       EncodedPixels\n",
              "count      35.000000\n",
              "mean    29863.742857\n",
              "std     57547.544424\n",
              "min      1573.000000\n",
              "25%      3962.000000\n",
              "50%      7508.000000\n",
              "75%     27810.000000\n",
              "max    316984.000000"
            ]
          },
          "metadata": {
            "tags": []
          },
          "execution_count": 12
        },
        {
          "output_type": "display_data",
          "data": {
            "image/png": "[encoded data removed]",
            "text/plain": [
              "<Figure size 576x504 with 1 Axes>"
            ]
          },
          "metadata": {
            "tags": []
          }
        }
      ]
    }
  ]
}